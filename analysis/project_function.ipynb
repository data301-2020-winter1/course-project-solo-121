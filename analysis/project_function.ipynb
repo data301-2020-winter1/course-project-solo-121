{
 "cells": [
  {
   "cell_type": "code",
   "execution_count": 1,
   "metadata": {},
   "outputs": [],
   "source": [
    "import sys, os\n",
    "import pandas as pd\n",
    "import numpy as np\n",
    "import matplotlib.pyplot as plt\n",
    "import seaborn as sns\n",
    "import pandas_profiling\n",
    "\n",
    "sys.path.insert(0, os.path.abspath('..'))\n",
    "from analysis.scripts import project_functions"
   ]
  },
  {
   "cell_type": "code",
   "execution_count": 2,
   "metadata": {},
   "outputs": [
    {
     "data": {
      "text/html": [
       "<div>\n",
       "<style scoped>\n",
       "    .dataframe tbody tr th:only-of-type {\n",
       "        vertical-align: middle;\n",
       "    }\n",
       "\n",
       "    .dataframe tbody tr th {\n",
       "        vertical-align: top;\n",
       "    }\n",
       "\n",
       "    .dataframe thead th {\n",
       "        text-align: right;\n",
       "    }\n",
       "</style>\n",
       "<table border=\"1\" class=\"dataframe\">\n",
       "  <thead>\n",
       "    <tr style=\"text-align: right;\">\n",
       "      <th></th>\n",
       "      <th>show_id</th>\n",
       "      <th>type</th>\n",
       "      <th>title</th>\n",
       "      <th>director</th>\n",
       "      <th>cast</th>\n",
       "      <th>country</th>\n",
       "      <th>date_added</th>\n",
       "      <th>release_year</th>\n",
       "      <th>categories</th>\n",
       "    </tr>\n",
       "  </thead>\n",
       "  <tbody>\n",
       "    <tr>\n",
       "      <th>0</th>\n",
       "      <td>81145628</td>\n",
       "      <td>Movie</td>\n",
       "      <td>Norm of the North: King Sized Adventure</td>\n",
       "      <td>Richard Finn, Tim Maltby</td>\n",
       "      <td>Alan Marriott, Andrew Toth, Brian Dobson, Cole...</td>\n",
       "      <td>United States, India, South Korea, China</td>\n",
       "      <td>September 9, 2019</td>\n",
       "      <td>2019</td>\n",
       "      <td>Children &amp; Family Movies, Comedies</td>\n",
       "    </tr>\n",
       "    <tr>\n",
       "      <th>4</th>\n",
       "      <td>80125979</td>\n",
       "      <td>Movie</td>\n",
       "      <td>#realityhigh</td>\n",
       "      <td>Fernando Lebrija</td>\n",
       "      <td>Nesta Cooper, Kate Walsh, John Michael Higgins...</td>\n",
       "      <td>United States</td>\n",
       "      <td>September 8, 2017</td>\n",
       "      <td>2017</td>\n",
       "      <td>Comedies</td>\n",
       "    </tr>\n",
       "    <tr>\n",
       "      <th>6</th>\n",
       "      <td>70304989</td>\n",
       "      <td>Movie</td>\n",
       "      <td>Automata</td>\n",
       "      <td>Gabe Ibáñez</td>\n",
       "      <td>Antonio Banderas, Dylan McDermott, Melanie Gri...</td>\n",
       "      <td>Bulgaria, United States, Spain, Canada</td>\n",
       "      <td>September 8, 2017</td>\n",
       "      <td>2014</td>\n",
       "      <td>International Movies, Sci-Fi &amp; Fantasy, Thrillers</td>\n",
       "    </tr>\n",
       "    <tr>\n",
       "      <th>7</th>\n",
       "      <td>80164077</td>\n",
       "      <td>Movie</td>\n",
       "      <td>Fabrizio Copano: Solo pienso en mi</td>\n",
       "      <td>Rodrigo Toro, Francisco Schultz</td>\n",
       "      <td>Fabrizio Copano</td>\n",
       "      <td>Chile</td>\n",
       "      <td>September 8, 2017</td>\n",
       "      <td>2017</td>\n",
       "      <td>Stand-Up Comedy</td>\n",
       "    </tr>\n",
       "    <tr>\n",
       "      <th>9</th>\n",
       "      <td>70304990</td>\n",
       "      <td>Movie</td>\n",
       "      <td>Good People</td>\n",
       "      <td>Henrik Ruben Genz</td>\n",
       "      <td>James Franco, Kate Hudson, Tom Wilkinson, Omar...</td>\n",
       "      <td>United States, United Kingdom, Denmark, Sweden</td>\n",
       "      <td>September 8, 2017</td>\n",
       "      <td>2014</td>\n",
       "      <td>Action &amp; Adventure, Thrillers</td>\n",
       "    </tr>\n",
       "    <tr>\n",
       "      <th>...</th>\n",
       "      <td>...</td>\n",
       "      <td>...</td>\n",
       "      <td>...</td>\n",
       "      <td>...</td>\n",
       "      <td>...</td>\n",
       "      <td>...</td>\n",
       "      <td>...</td>\n",
       "      <td>...</td>\n",
       "      <td>...</td>\n",
       "    </tr>\n",
       "    <tr>\n",
       "      <th>6142</th>\n",
       "      <td>80063224</td>\n",
       "      <td>TV Show</td>\n",
       "      <td>The Great British Baking Show</td>\n",
       "      <td>Andy Devonshire</td>\n",
       "      <td>Mel Giedroyc, Sue Perkins, Mary Berry, Paul Ho...</td>\n",
       "      <td>United Kingdom</td>\n",
       "      <td>August 30, 2019</td>\n",
       "      <td>2019</td>\n",
       "      <td>British TV Shows, Reality TV</td>\n",
       "    </tr>\n",
       "    <tr>\n",
       "      <th>6158</th>\n",
       "      <td>80164216</td>\n",
       "      <td>TV Show</td>\n",
       "      <td>Miraculous: Tales of Ladybug &amp; Cat Noir</td>\n",
       "      <td>Thomas Astruc</td>\n",
       "      <td>Cristina Vee, Bryce Papenbrook, Keith Silverst...</td>\n",
       "      <td>France, South Korea, Japan</td>\n",
       "      <td>August 2, 2019</td>\n",
       "      <td>2018</td>\n",
       "      <td>Kids' TV, TV Action &amp; Adventure</td>\n",
       "    </tr>\n",
       "    <tr>\n",
       "      <th>6167</th>\n",
       "      <td>80115328</td>\n",
       "      <td>TV Show</td>\n",
       "      <td>Sacred Games</td>\n",
       "      <td>Vikramaditya Motwane, Anurag Kashyap</td>\n",
       "      <td>Saif Ali Khan, Nawazuddin Siddiqui, Radhika Ap...</td>\n",
       "      <td>India, United States</td>\n",
       "      <td>August 15, 2019</td>\n",
       "      <td>2019</td>\n",
       "      <td>Crime TV Shows, International TV Shows, TV Dramas</td>\n",
       "    </tr>\n",
       "    <tr>\n",
       "      <th>6182</th>\n",
       "      <td>80176842</td>\n",
       "      <td>TV Show</td>\n",
       "      <td>Men on a Mission</td>\n",
       "      <td>Jung-ah Im</td>\n",
       "      <td>Ho-dong Kang, Soo-geun Lee, Sang-min Lee, Youn...</td>\n",
       "      <td>South Korea</td>\n",
       "      <td>April 9, 2019</td>\n",
       "      <td>2019</td>\n",
       "      <td>International TV Shows, Korean TV Shows, Stand...</td>\n",
       "    </tr>\n",
       "    <tr>\n",
       "      <th>6213</th>\n",
       "      <td>80126599</td>\n",
       "      <td>TV Show</td>\n",
       "      <td>Leyla and Mecnun</td>\n",
       "      <td>Onur Ünlü</td>\n",
       "      <td>Ali Atay, Melis Birkan, Serkan Keskin, Ahmet M...</td>\n",
       "      <td>Turkey</td>\n",
       "      <td>April 15, 2017</td>\n",
       "      <td>2014</td>\n",
       "      <td>International TV Shows, Romantic TV Shows, TV ...</td>\n",
       "    </tr>\n",
       "  </tbody>\n",
       "</table>\n",
       "<p>3774 rows × 9 columns</p>\n",
       "</div>"
      ],
      "text/plain": [
       "       show_id     type                                    title  \\\n",
       "0     81145628    Movie  Norm of the North: King Sized Adventure   \n",
       "4     80125979    Movie                             #realityhigh   \n",
       "6     70304989    Movie                                 Automata   \n",
       "7     80164077    Movie       Fabrizio Copano: Solo pienso en mi   \n",
       "9     70304990    Movie                              Good People   \n",
       "...        ...      ...                                      ...   \n",
       "6142  80063224  TV Show            The Great British Baking Show   \n",
       "6158  80164216  TV Show  Miraculous: Tales of Ladybug & Cat Noir   \n",
       "6167  80115328  TV Show                             Sacred Games   \n",
       "6182  80176842  TV Show                         Men on a Mission   \n",
       "6213  80126599  TV Show                         Leyla and Mecnun   \n",
       "\n",
       "                                  director  \\\n",
       "0                 Richard Finn, Tim Maltby   \n",
       "4                         Fernando Lebrija   \n",
       "6                              Gabe Ibáñez   \n",
       "7          Rodrigo Toro, Francisco Schultz   \n",
       "9                        Henrik Ruben Genz   \n",
       "...                                    ...   \n",
       "6142                       Andy Devonshire   \n",
       "6158                         Thomas Astruc   \n",
       "6167  Vikramaditya Motwane, Anurag Kashyap   \n",
       "6182                            Jung-ah Im   \n",
       "6213                             Onur Ünlü   \n",
       "\n",
       "                                                   cast  \\\n",
       "0     Alan Marriott, Andrew Toth, Brian Dobson, Cole...   \n",
       "4     Nesta Cooper, Kate Walsh, John Michael Higgins...   \n",
       "6     Antonio Banderas, Dylan McDermott, Melanie Gri...   \n",
       "7                                       Fabrizio Copano   \n",
       "9     James Franco, Kate Hudson, Tom Wilkinson, Omar...   \n",
       "...                                                 ...   \n",
       "6142  Mel Giedroyc, Sue Perkins, Mary Berry, Paul Ho...   \n",
       "6158  Cristina Vee, Bryce Papenbrook, Keith Silverst...   \n",
       "6167  Saif Ali Khan, Nawazuddin Siddiqui, Radhika Ap...   \n",
       "6182  Ho-dong Kang, Soo-geun Lee, Sang-min Lee, Youn...   \n",
       "6213  Ali Atay, Melis Birkan, Serkan Keskin, Ahmet M...   \n",
       "\n",
       "                                             country         date_added  \\\n",
       "0           United States, India, South Korea, China  September 9, 2019   \n",
       "4                                      United States  September 8, 2017   \n",
       "6             Bulgaria, United States, Spain, Canada  September 8, 2017   \n",
       "7                                              Chile  September 8, 2017   \n",
       "9     United States, United Kingdom, Denmark, Sweden  September 8, 2017   \n",
       "...                                              ...                ...   \n",
       "6142                                  United Kingdom    August 30, 2019   \n",
       "6158                      France, South Korea, Japan     August 2, 2019   \n",
       "6167                            India, United States    August 15, 2019   \n",
       "6182                                     South Korea      April 9, 2019   \n",
       "6213                                          Turkey     April 15, 2017   \n",
       "\n",
       "      release_year                                         categories  \n",
       "0             2019                 Children & Family Movies, Comedies  \n",
       "4             2017                                           Comedies  \n",
       "6             2014  International Movies, Sci-Fi & Fantasy, Thrillers  \n",
       "7             2017                                    Stand-Up Comedy  \n",
       "9             2014                      Action & Adventure, Thrillers  \n",
       "...            ...                                                ...  \n",
       "6142          2019                       British TV Shows, Reality TV  \n",
       "6158          2018                    Kids' TV, TV Action & Adventure  \n",
       "6167          2019  Crime TV Shows, International TV Shows, TV Dramas  \n",
       "6182          2019  International TV Shows, Korean TV Shows, Stand...  \n",
       "6213          2014  International TV Shows, Romantic TV Shows, TV ...  \n",
       "\n",
       "[3774 rows x 9 columns]"
      ]
     },
     "execution_count": 2,
     "metadata": {},
     "output_type": "execute_result"
    }
   ],
   "source": [
    "df = project_functions.load_and_process('../data/raw/netflix_titles.csv')\n",
    "df"
   ]
  },
  {
   "cell_type": "markdown",
   "metadata": {},
   "source": [
    "Notes:\n",
    "- Retreival of base database"
   ]
  },
  {
   "cell_type": "code",
   "execution_count": 3,
   "metadata": {},
   "outputs": [
    {
     "data": {
      "text/html": [
       "<div>\n",
       "<style scoped>\n",
       "    .dataframe tbody tr th:only-of-type {\n",
       "        vertical-align: middle;\n",
       "    }\n",
       "\n",
       "    .dataframe tbody tr th {\n",
       "        vertical-align: top;\n",
       "    }\n",
       "\n",
       "    .dataframe thead th {\n",
       "        text-align: right;\n",
       "    }\n",
       "</style>\n",
       "<table border=\"1\" class=\"dataframe\">\n",
       "  <thead>\n",
       "    <tr style=\"text-align: right;\">\n",
       "      <th></th>\n",
       "      <th>type</th>\n",
       "      <th>release_year</th>\n",
       "    </tr>\n",
       "  </thead>\n",
       "  <tbody>\n",
       "    <tr>\n",
       "      <th>0</th>\n",
       "      <td>Movie</td>\n",
       "      <td>2019</td>\n",
       "    </tr>\n",
       "    <tr>\n",
       "      <th>4</th>\n",
       "      <td>Movie</td>\n",
       "      <td>2017</td>\n",
       "    </tr>\n",
       "    <tr>\n",
       "      <th>6</th>\n",
       "      <td>Movie</td>\n",
       "      <td>2014</td>\n",
       "    </tr>\n",
       "    <tr>\n",
       "      <th>7</th>\n",
       "      <td>Movie</td>\n",
       "      <td>2017</td>\n",
       "    </tr>\n",
       "    <tr>\n",
       "      <th>9</th>\n",
       "      <td>Movie</td>\n",
       "      <td>2014</td>\n",
       "    </tr>\n",
       "    <tr>\n",
       "      <th>...</th>\n",
       "      <td>...</td>\n",
       "      <td>...</td>\n",
       "    </tr>\n",
       "    <tr>\n",
       "      <th>6142</th>\n",
       "      <td>TV Show</td>\n",
       "      <td>2019</td>\n",
       "    </tr>\n",
       "    <tr>\n",
       "      <th>6158</th>\n",
       "      <td>TV Show</td>\n",
       "      <td>2018</td>\n",
       "    </tr>\n",
       "    <tr>\n",
       "      <th>6167</th>\n",
       "      <td>TV Show</td>\n",
       "      <td>2019</td>\n",
       "    </tr>\n",
       "    <tr>\n",
       "      <th>6182</th>\n",
       "      <td>TV Show</td>\n",
       "      <td>2019</td>\n",
       "    </tr>\n",
       "    <tr>\n",
       "      <th>6213</th>\n",
       "      <td>TV Show</td>\n",
       "      <td>2014</td>\n",
       "    </tr>\n",
       "  </tbody>\n",
       "</table>\n",
       "<p>3774 rows × 2 columns</p>\n",
       "</div>"
      ],
      "text/plain": [
       "         type  release_year\n",
       "0       Movie          2019\n",
       "4       Movie          2017\n",
       "6       Movie          2014\n",
       "7       Movie          2017\n",
       "9       Movie          2014\n",
       "...       ...           ...\n",
       "6142  TV Show          2019\n",
       "6158  TV Show          2018\n",
       "6167  TV Show          2019\n",
       "6182  TV Show          2019\n",
       "6213  TV Show          2014\n",
       "\n",
       "[3774 rows x 2 columns]"
      ]
     },
     "execution_count": 3,
     "metadata": {},
     "output_type": "execute_result"
    }
   ],
   "source": [
    "df0 = df[[\"type\", \"release_year\"]]\n",
    "df0"
   ]
  },
  {
   "cell_type": "markdown",
   "metadata": {},
   "source": [
    "Seperation and creation of sub table to research amount of released movies and tv shows seperated by release year"
   ]
  },
  {
   "cell_type": "code",
   "execution_count": 4,
   "metadata": {},
   "outputs": [
    {
     "data": {
      "text/plain": [
       "<AxesSubplot:xlabel='type', ylabel='release_year'>"
      ]
     },
     "execution_count": 4,
     "metadata": {},
     "output_type": "execute_result"
    },
    {
     "data": {
      "image/png": "[encoded data removed]",
      "text/plain": [
       "<Figure size 432x288 with 1 Axes>"
      ]
     },
     "metadata": {
      "needs_background": "light"
     },
     "output_type": "display_data"
    }
   ],
   "source": [
    "sns.boxplot(x=\"type\", y=\"release_year\", data=df0, palette=\"Pastel1\")"
   ]
  },
  {
   "cell_type": "markdown",
   "metadata": {},
   "source": [
    "```Visual display of release year subtable```\n",
    "- Movies and tv shows populate majority of their releases within the last two decades\n",
    "- Clear continuation of releasing older movies than tv shows\n",
    "---\n",
    "There are fewer movies released than tv shows within the two's common popular release periods of 2000-2020, but movies exceeds tv shows in having continual releases"
   ]
  },
  {
   "cell_type": "code",
   "execution_count": 5,
   "metadata": {},
   "outputs": [
    {
     "data": {
      "text/plain": [
       "<AxesSubplot:xlabel='release_year', ylabel='type'>"
      ]
     },
     "execution_count": 5,
     "metadata": {},
     "output_type": "execute_result"
    },
    {
     "data": {
      "image/png": "[encoded data removed]",
      "text/plain": [
       "<Figure size 432x288 with 1 Axes>"
      ]
     },
     "metadata": {
      "needs_background": "light"
     },
     "output_type": "display_data"
    }
   ],
   "source": [
    "sns.boxplot(x=\"release_year\", y=\"type\", data=df0)"
   ]
  },
  {
   "cell_type": "code",
   "execution_count": 6,
   "metadata": {},
   "outputs": [],
   "source": [
    "df1 = df.loc[lambda x : x['country'].str.contains('United States')]\n",
    "df2 = df.loc[lambda x : x['country'].str.contains('India')]\n",
    "df3 = df.loc[lambda x : x['country'].str.contains('United Kingdom')]\n",
    "df4 = df.loc[lambda x : x['country'].str.contains('Japan')]\n",
    "df5 = df.loc[lambda x : x['country'].str.contains('Canada')]"
   ]
  },
  {
   "cell_type": "code",
   "execution_count": 7,
   "metadata": {},
   "outputs": [
    {
     "data": {
      "text/plain": [
       "<AxesSubplot:xlabel='release_year', ylabel='type'>"
      ]
     },
     "execution_count": 7,
     "metadata": {},
     "output_type": "execute_result"
    },
    {
     "data": {
      "image/png": "[encoded data removed]",
      "text/plain": [
       "<Figure size 432x288 with 1 Axes>"
      ]
     },
     "metadata": {
      "needs_background": "light"
     },
     "output_type": "display_data"
    }
   ],
   "source": [
    "sns.boxplot(x=\"release_year\", y=\"type\", data=df1)"
   ]
  },
  {
   "cell_type": "markdown",
   "metadata": {},
   "source": [
    "Creating subtables of base table to examine how Netflix releases content on a per country basis\n",
    "---\n",
    "Notes:\n",
    "- United States plot repicates earlier seperation of movies and tv shows implying that United States has most if not all documented releases in database (exception to a few outliers in tv shows)\n",
    "- Above statement would imply that U.S is the country with the most publicly accessable enterainment among Netflix releases on a per country basis"
   ]
  },
  {
   "cell_type": "code",
   "execution_count": 8,
   "metadata": {},
   "outputs": [
    {
     "data": {
      "text/plain": [
       "<AxesSubplot:xlabel='release_year', ylabel='type'>"
      ]
     },
     "execution_count": 8,
     "metadata": {},
     "output_type": "execute_result"
    },
    {
     "data": {
      "image/png": "[encoded data removed]",
      "text/plain": [
       "<Figure size 432x288 with 1 Axes>"
      ]
     },
     "metadata": {
      "needs_background": "light"
     },
     "output_type": "display_data"
    }
   ],
   "source": [
    "sns.boxplot(x=\"release_year\", y=\"type\", data=df2)"
   ]
  },
  {
   "cell_type": "markdown",
   "metadata": {},
   "source": [
    "Notes:\n",
    "- Movies vastly out releases tv shows\n",
    "- Each dot represents a sigular or minor outlier instance of the bar graph which depicts the average, minimun, maximum, and error window of calculations"
   ]
  },
  {
   "cell_type": "code",
   "execution_count": 9,
   "metadata": {},
   "outputs": [
    {
     "data": {
      "text/plain": [
       "<AxesSubplot:xlabel='release_year', ylabel='type'>"
      ]
     },
     "execution_count": 9,
     "metadata": {},
     "output_type": "execute_result"
    },
    {
     "data": {
      "image/png": "[encoded data removed]",
      "text/plain": [
       "<Figure size 432x288 with 1 Axes>"
      ]
     },
     "metadata": {
      "needs_background": "light"
     },
     "output_type": "display_data"
    }
   ],
   "source": [
    "sns.boxplot(x=\"release_year\", y=\"type\", data=df3)"
   ]
  },
  {
   "cell_type": "markdown",
   "metadata": {},
   "source": [
    "Notes:\n",
    "- United Kingdom is the second most populated in terms of of spuratic outliers outside the main mean\n",
    "- Has the smallest margin in terms of movies and tv shows compared to all other compared countries"
   ]
  },
  {
   "cell_type": "code",
   "execution_count": 10,
   "metadata": {},
   "outputs": [
    {
     "data": {
      "text/plain": [
       "<AxesSubplot:xlabel='release_year', ylabel='type'>"
      ]
     },
     "execution_count": 10,
     "metadata": {},
     "output_type": "execute_result"
    },
    {
     "data": {
      "image/png": "[encoded data removed]",
      "text/plain": [
       "<Figure size 432x288 with 1 Axes>"
      ]
     },
     "metadata": {
      "needs_background": "light"
     },
     "output_type": "display_data"
    }
   ],
   "source": [
    "sns.boxplot(x=\"release_year\", y=\"type\", data=df4)"
   ]
  },
  {
   "cell_type": "markdown",
   "metadata": {},
   "source": [
    "Notes:\n",
    "- Japan reflects Canada when comparing tv show releases and their range, Canada's range extends exactly to their minimum while Japan lines up more with current years\n",
    "- Japan has minimum outliers compared to all other countries"
   ]
  },
  {
   "cell_type": "code",
   "execution_count": 11,
   "metadata": {},
   "outputs": [
    {
     "data": {
      "text/plain": [
       "<AxesSubplot:xlabel='release_year', ylabel='type'>"
      ]
     },
     "execution_count": 11,
     "metadata": {},
     "output_type": "execute_result"
    },
    {
     "data": {
      "image/png": "[encoded data removed]",
      "text/plain": [
       "<Figure size 432x288 with 1 Axes>"
      ]
     },
     "metadata": {
      "needs_background": "light"
     },
     "output_type": "display_data"
    }
   ],
   "source": [
    "sns.boxplot(x=\"release_year\", y=\"type\", data=df5)"
   ]
  },
  {
   "cell_type": "markdown",
   "metadata": {},
   "source": [
    "Notes:\n",
    "- United States has most lucartive releases\n",
    "- Japan has least amount of dated releases compared to other catgories\n",
    "- United States has more movies for recent releases and drastically less movies released in 40's to 60's\n",
    "- Unlike other compared countries, Canada has more a larger range in tv show release years compared to all other countries"
   ]
  },
  {
   "cell_type": "markdown",
   "metadata": {},
   "source": [
    "Conclusion:\n",
    "The most popular period for releases are within the last two decades which is understandable considering the audience's generation (or at least the most likely audience) is to be within that generational gap with some less of a consistent release of content from periods in 60's or 70's.  It would seem that movies out release tv shows in terms of the range of media released from said time period.  The only exception to this would be Canada from the compared/visual data which makes an interesting depiction on how Canadians may differ from other countries in terms of desired content.  It would seem that the United States has the broadest range of content with Canada having the least making it clear that Netflix in Canada is more concerned on the more modern releases while Netflix in America concentrates on having a more legacy catalogue for its viewers."
   ]
  },
  {
   "cell_type": "code",
   "execution_count": null,
   "metadata": {},
   "outputs": [],
   "source": []
  }
 ],
 "metadata": {
  "kernelspec": {
   "display_name": "Python 3",
   "language": "python",
   "name": "python3"
  },
  "language_info": {
   "codemirror_mode": {
    "name": "ipython",
    "version": 3
   },
   "file_extension": ".py",
   "mimetype": "text/x-python",
   "name": "python",
   "nbconvert_exporter": "python",
   "pygments_lexer": "ipython3",
   "version": "3.8.5"
  }
 },
 "nbformat": 4,
 "nbformat_minor": 4
}
